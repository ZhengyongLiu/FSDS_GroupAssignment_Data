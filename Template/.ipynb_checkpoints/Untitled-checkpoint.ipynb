{
 "cells": [
  {
   "cell_type": "raw",
   "id": "0ab45271-e5bd-4867-b69f-8ebe4df6d263",
   "metadata": {},
   "source": [
    "---\n",
    "title: XXXX\n",
    "execute:\n",
    "  echo: false\n",
    "  freeze: true\n",
    "pdf:\n",
    "  include-in-header:\n",
    "    text: |\n",
    "      %\\addtokomafont{disposition}{\\rmfamily}\n",
    "  mainfont: Spectral\n",
    "  sansfont: Roboto\n",
    "  monofont: JetBrainsMono-Regular\n",
    "  papersize: a4\n",
    "  geometry:\n",
    "    - top=25mm\n",
    "    - left=40mm\n",
    "    - right=30mm\n",
    "    - bottom=25mm\n",
    "    - heightrounded\n",
    "  toc: false\n",
    "  number-sections: false\n",
    "  colorlinks: true\n",
    "  highlight-style: github\n",
    "---"
   ]
  },
  {
   "cell_type": "markdown",
   "id": "28bd673a-788c-4820-9ee8-e299ec15bb7c",
   "metadata": {},
   "source": [
    "We, [insert your group's names], confirm that the work presented in this assessment is our own. Where information has been derived from other sources, we confirm that this has been indicated in the work. Where a Large Language Model such as ChatGPT has been used we confirm that we have made its contribution to the final submission clear.\n",
    "\n",
    "Date:\n",
    "\n",
    "Student Numbers: \n",
    "\n",
    "\n",
    "| What Went Well | What Was Challenging |\n",
    "| -------------- | -------------------- |\n",
    "| A              | B                    |\n",
    "| C              | D                    |\n",
    "\n",
    "# Response to Questions\n",
    "\n",
    "\n",
    "## 1. Who collected the data?\n",
    "<p style=\"text-align: justify;\">\n",
    "[Inside Airbnb](http://insideairbnb.com/about/)'s data was chiefly collected by Murray Cox, its founder, who leverages his skills in community activism, art, and data for social change. The project also benefits from contributions by John Morris, a key collaborator responsible for the website's design and major reports, and Taylor Higgins, who focuses on data organization and community building. Additional support comes from various past collaborators and an advisory board, each contributing unique expertise to the analysis and presentation of Airbnb's impact on communities.\n",
    "</p>\n",
    "\n",
    "## 2. Why did they collect it?\n",
    "<p style=\"text-align: justify;\">\n",
    "The data on London’s Airbnb locations, types, availability and rental prices is collected to inform data-driven public service and policy innovation. This approach aims to address complex urban planning and housing issues by analyzing housing market dynamics and population-related factors to improve policy decisions.\n",
    "</p>\n",
    "\n",
    "## 3. How was the data collected?  \n",
    "<p style=\"text-align: justify;\">\n",
    "The data featured on the ‘Inside Airbnb’ website was primarily collected from the Airbnb Website itself, offering a comprehensive range of information such as property listings, availability calendars, customer reviews, and detailed metrics for listings in various regions and cities globally. Additionally, the project also involves collaboration with outside contributors who choose to participate. These collaborators, possibly from various professional backgrounds or with specific expertise, contribute to enhancing and expanding the data collection process. \n",
    "</p>\n",
    "\n",
    "## 4. How does the method of collection impact the completeness and/or accuracy of its representation of the process it seeks to study, and what wider issues does this raise?\n",
    "<p style=\"text-align: justify;\">\n",
    "The collection of Airbnb data, excluding private listings, faces limitations like time lags and lacks insights into private communications or internal policies (Slee, n.d.). Changes in Airbnb's website structure can impact data accuracy, and privacy concerns arise regarding personal information. Policymakers using this data risk introducing biases, potentially leading to ineffective or unfair policies, and users must be aware of these constraints to avoid incorrect inferences (Slee, n.d.).\n",
    "</p>\n",
    "\n",
    "## 5. What ethical considerations does the use of this data raise? \n",
    "<p style=\"text-align: justify;\">\n",
    "It's crucial to navigate a complex web of ethical and legal considerations, including privacy, data ownership, and user consent. Ethical data handling mandates not only transparency in collection, processing, and usage but also adherence to principles like data minimization, accuracy, non-discrimination, fairness, and accountability (Stoyanovich, Howe & Jagadish, 2020). Complying with legal regulations and preventing misuse are paramount, ensuring that any data collected is with consent, is the minimum necessary, and is used in a manner that avoids discriminatory practices and unauthorized purposes. While publicly accessible information may seem readily available, using it without consent can lead to ethical dilemmas and legal challenges in certain jurisdictions. Therefore, alongside maintaining openness about the data's origins and modifications, securing the data against unauthorized access is a critical responsibility, requiring robust storage and handling measures.\n",
    "</p>\n",
    "\n",
    "## 6. With reference to the data (*i.e.* using numbers, figures, maps, and descriptive statistics), what does an analysis of Hosts and Listing types suggest about the nature of Airbnb lets in London? \n",
    "\n",
    "### Preparation\n",
    "Loading Package"
   ]
  },
  {
   "cell_type": "code",
   "execution_count": 1,
   "id": "3b1aefd4-91a2-48ad-869a-a0f7516f782f",
   "metadata": {},
   "outputs": [],
   "source": [
    "import os\n",
    "from urllib.parse import urlparse\n",
    "\n",
    "import contextily as ctx\n",
    "import folium\n",
    "import geopandas as gpd\n",
    "import matplotlib.colors as mcolors\n",
    "import matplotlib.pyplot as plt\n",
    "import numpy as np\n",
    "import pandas as pd\n",
    "import requests\n",
    "import seaborn as sns\n",
    "from folium.plugins import MarkerCluster\n",
    "from geopandas.tools import sjoin\n",
    "from mpl_toolkits.axes_grid1 import make_axes_locatable\n",
    "from requests import get\n",
    "from shapely.geometry import Point"
   ]
  },
  {
   "cell_type": "code",
   "execution_count": 2,
   "id": "0c58cde1-fb8f-4ea1-a0f1-b7bf97390d49",
   "metadata": {},
   "outputs": [
    {
     "data": {
      "text/plain": [
       "'/home/jovyan/work/Desktop/FSDS-project/Template'"
      ]
     },
     "execution_count": 2,
     "metadata": {},
     "output_type": "execute_result"
    }
   ],
   "source": [
    "os.getcwd()"
   ]
  },
  {
   "cell_type": "code",
   "execution_count": 3,
   "id": "f3b55598-2b0f-4302-b6f5-1272f2d6b778",
   "metadata": {},
   "outputs": [],
   "source": [
    "# Read shapefile online\n",
    "def cache_data(source_url, dest_dir):\n",
    "    # 确保目标目录存在\n",
    "    if not os.path.exists(dest_dir):\n",
    "        os.makedirs(dest_dir)\n",
    "\n",
    "    # 解析文件名\n",
    "    filename = source_url.split(\"/\")[-1].split(\"?\")[0]  # 假设URL以文件名结尾\n",
    "    file_path = os.path.join(dest_dir, filename)\n",
    "\n",
    "    # 如果文件不存在，则下载\n",
    "    if not os.path.isfile(file_path):\n",
    "        response = requests.get(source_url)\n",
    "        if response.status_code == 200:\n",
    "            with open(file_path, \"wb\") as file:\n",
    "                file.write(response.content)\n",
    "        else:\n",
    "            raise Exception(f\"Failed to download {source_url}\")\n",
    "\n",
    "    return file_path"
   ]
  },
  {
   "cell_type": "markdown",
   "id": "57ebb222-9f73-4334-88f4-36c32c7ba5fb",
   "metadata": {},
   "source": [
    "### 6.1 Geographic Distribution Map "
   ]
  },
  {
   "cell_type": "code",
   "execution_count": 4,
   "id": "d16d4dfb-ecac-42ce-8831-ce12e4855b8a",
   "metadata": {},
   "outputs": [
    {
     "name": "stdout",
     "output_type": "stream",
     "text": [
      "37242\n"
     ]
    }
   ],
   "source": [
    "# Read Relative Document\n",
    "# 读取london_Boroughshapefile\n",
    "London_borough = gpd.read_file(\n",
    "    cache_data(\n",
    "        \"https://github.com/ZhengyongLiu/FSDS_GroupAssignment_Data/blob/main/Borough/London_Borough_Excluding_MHW.zip?raw=true\",\n",
    "        os.path.join(\"data\", \"geo\"),\n",
    "    ),\n",
    "    driver=\"ESRI Shapefile\",\n",
    ")\n",
    "\n",
    "# 读取csv\n",
    "url = \"https://raw.githubusercontent.com/OnTheMon/FSDS-project/main/Data/cleaned_data_2023.csv\"\n",
    "df = pd.read_csv(url)\n",
    "print(len(df))"
   ]
  },
  {
   "cell_type": "markdown",
   "id": "de7ba100-07a8-45f9-9439-6954c1fd7b09",
   "metadata": {},
   "source": [
    "![Geographic Distribution Map](Geographic_Distribution_Map.png)"
   ]
  },
  {
   "cell_type": "markdown",
   "id": "87341a63-fa2b-4117-b093-497c2ebacf32",
   "metadata": {},
   "source": [
    "<p style=\"text-align: justify;\">\n",
    "通过四种类型房源的分布对比可得，Entire home apt和private room分布范围广且在伦敦市中心（特别是商业和旅游区）非常密集；Hotel room集中在市中心的旅游和商务区域、shared room的分布较为分散，这两种房源的密度显著低于前两种。说明私密性、完整性好的住房更符合市场需求。\n",
    "</p>"
   ]
  },
  {
   "cell_type": "code",
   "execution_count": null,
   "id": "a126c369-3119-4d07-b518-9e072643ed1d",
   "metadata": {},
   "outputs": [],
   "source": [
    "# 假设df是您的原始DataFrame，London_borough是伦敦各区的地理数据\n",
    "df = gpd.GeoDataFrame(\n",
    "    df, geometry=gpd.points_from_xy(df.longitude, df.latitude), crs=\"EPSG:4326\"\n",
    ").to_crs(London_borough.crs)\n",
    "\n",
    "# 确定子图的行数和列数\n",
    "n_room_types = len(df[\"room_type\"].unique())\n",
    "n_cols = 2  # 例如，选择2列\n",
    "n_rows = n_room_types // n_cols + (n_room_types % n_cols > 0)\n",
    "\n",
    "# 创建一个足够大的图形对象\n",
    "fig, axs = plt.subplots(n_rows, n_cols, figsize=(8 * n_cols, 6 * n_rows))\n",
    "\n",
    "# 遍历每种房间类型，为每种类型创建一个子图\n",
    "for k, room_type in enumerate(df[\"room_type\"].unique()):\n",
    "    idf = df[df[\"room_type\"] == room_type]\n",
    "    room_type_clean = room_type.replace(\"/\", \" \")\n",
    "\n",
    "    # 确定当前子图的位置\n",
    "    ax = axs[k // n_cols, k % n_cols]\n",
    "\n",
    "    # 在当前子图上绘制数据\n",
    "    London_borough.plot(\n",
    "        ax=ax, alpha=1, edgecolor=\"#656565\", facecolor=\"#E1E1E1\", linewidth=1.5\n",
    "    )\n",
    "    London_borough.plot(\n",
    "        ax=ax, alpha=1, edgecolor=\"#656565\", facecolor=\"none\", linewidth=1.5, zorder=10\n",
    "    )\n",
    "    ax.scatter(idf.geometry.x, idf.geometry.y, c=\"#346BAB\", s=50, alpha=0.1)\n",
    "\n",
    "    # 设置子图样式\n",
    "    for spine in ax.spines.values():\n",
    "        spine.set_color(\"white\")\n",
    "    ax.set_xticks([])\n",
    "    ax.set_yticks([])\n",
    "    ax.set_xlabel(room_type_clean)\n",
    "\n",
    "\n",
    "plt.tight_layout()\n",
    "plt.savefig(r\"Geographic_Distribution_Map.png\", dpi=600)\n",
    "plt.show()"
   ]
  }
 ],
 "metadata": {
  "kernelspec": {
   "display_name": "Python 3 (ipykernel)",
   "language": "python",
   "name": "python3"
  },
  "language_info": {
   "codemirror_mode": {
    "name": "ipython",
    "version": 3
   },
   "file_extension": ".py",
   "mimetype": "text/x-python",
   "name": "python",
   "nbconvert_exporter": "python",
   "pygments_lexer": "ipython3",
   "version": "3.11.5"
  }
 },
 "nbformat": 4,
 "nbformat_minor": 5
}
