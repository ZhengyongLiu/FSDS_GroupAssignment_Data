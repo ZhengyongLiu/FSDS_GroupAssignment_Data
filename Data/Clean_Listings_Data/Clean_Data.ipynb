{
 "cells": [
  {
   "cell_type": "code",
   "execution_count": 2,
   "metadata": {},
   "outputs": [
    {
     "name": "stdout",
     "output_type": "stream",
     "text": [
      "        id                                               name  host_id  \\\n",
      "0  13913.0  Rental unit in Islington · ★4.80 · 1 bedroom ·...    54730   \n",
      "1  15400.0  Rental unit in London · ★4.80 · 1 bedroom · 1 ...    60302   \n",
      "2  92644.0  Rental unit in Earlsfield · ★4.57 · 1 bedroom ...   498201   \n",
      "3  17402.0  Rental unit in London · ★4.76 · 3 bedrooms · 3...    67564   \n",
      "4  93015.0  Rental unit in Hammersmith · ★4.82 · 2 bedroom...   499704   \n",
      "\n",
      "  host_name  neighbourhood_group           neighbourhood  latitude  longitude  \\\n",
      "0     Alina                  NaN               Islington  51.56861   -0.11270   \n",
      "1  Philippa                  NaN  Kensington and Chelsea  51.48780   -0.16813   \n",
      "2   Dee Dee                  NaN              Wandsworth  51.44201   -0.18739   \n",
      "3       Liz                  NaN             Westminster  51.52195   -0.14094   \n",
      "4     Sarah                  NaN  Hammersmith and Fulham  51.49993   -0.21707   \n",
      "\n",
      "         room_type  price  minimum_nights  number_of_reviews last_review  \\\n",
      "0     Private room     79               1                 41  11/12/2022   \n",
      "1  Entire home/apt    150               7                 94  01/05/2023   \n",
      "2     Private room     42               2                216  29/10/2022   \n",
      "3  Entire home/apt    476               3                 54  19/11/2022   \n",
      "4  Entire home/apt    175               5                 38  30/09/2022   \n",
      "\n",
      "   reviews_per_month  calculated_host_listings_count  availability_365  \\\n",
      "0               0.26                               2               360   \n",
      "1               0.56                               1                73   \n",
      "2               1.45                               1               217   \n",
      "3               0.36                               9               300   \n",
      "4               0.27                               1                40   \n",
      "\n",
      "   number_of_reviews_ltm license  \n",
      "0                     11     NaN  \n",
      "1                      5     NaN  \n",
      "2                      9     NaN  \n",
      "3                      4     NaN  \n",
      "4                      2     NaN  \n"
     ]
    },
    {
     "name": "stderr",
     "output_type": "stream",
     "text": [
      "/var/folders/60/b7504ly50v1_fz0lr9fy5tt00000gn/T/ipykernel_51593/4242862843.py:5: DtypeWarning: Columns (17) have mixed types. Specify dtype option on import or set low_memory=False.\n",
      "  df = pd.read_csv(github_url)\n"
     ]
    }
   ],
   "source": [
    "import pandas as pd\n",
    "import numpy as np\n",
    "# 定义GitHub上CSV文件的原始URL\n",
    "csv = 'https://raw.githubusercontent.com/ZhengyongLiu/QM_GroupAssignment_Data/main/listings.csv'\n",
    "\n",
    "# 使用pd.read_csv读取CSV数据并将其存储到DataFrame中\n",
    "df = pd.read_csv(csv)\n",
    "\n",
    "# 打印前几行数据\n",
    "print(df.head())\n",
    "df = df.drop('neighbourhood_group', axis=1)\n",
    "df = df.drop('license', axis=1)\n",
    "df.dropna(inplace=True)\n",
    "#df = df[df['availability_365'] >= 30]\n",
    "df.to_csv(\"cleaned_data_Done.csv\", index=False)"
   ]
  }
 ],
 "metadata": {
  "kernelspec": {
   "display_name": "Python 3",
   "language": "python",
   "name": "python3"
  },
  "language_info": {
   "codemirror_mode": {
    "name": "ipython",
    "version": 3
   },
   "file_extension": ".py",
   "mimetype": "text/x-python",
   "name": "python",
   "nbconvert_exporter": "python",
   "pygments_lexer": "ipython3",
   "version": "3.9.6"
  }
 },
 "nbformat": 4,
 "nbformat_minor": 2
}
